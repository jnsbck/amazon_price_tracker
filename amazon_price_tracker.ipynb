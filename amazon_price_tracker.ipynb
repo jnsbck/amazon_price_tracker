{
 "cells": [
  {
   "cell_type": "code",
   "execution_count": 3,
   "metadata": {},
   "outputs": [],
   "source": [
    "from bs4 import BeautifulSoup\n",
    "import urllib.request\n",
    "import numpy as np"
   ]
  },
  {
   "cell_type": "code",
   "execution_count": 138,
   "metadata": {},
   "outputs": [],
   "source": [
    "URL = \"https://www.amazon.de/dp/B0k199579GH79HV/ref=sr_1_2_sspa?keywords=wd+ref+4+tb&qid=1575929398&sr=8-2-spons&psc=1&spLa=ZW5jcnlwdGVkUXVhbGlmaWVyPUExMVNXMTQyTjhRQTFGJmVuY3J5cHRlZElkPUEwNTgxMjEwM1BGMktWOVo4TlE1USZlbmNyeXB0ZWRBZElkPUEwMzk5MTE2MlZBVVNBWlI4VVZPSCZ3aWRnZXROYW1lPXNwX2F0ZiZhY3Rpb249Y2xpY2tSZWRpcmVjdCZkb05vdExvZ0NsaWNrPXRydWU=\"\n",
    "URL = \"https://www.amazon.de/dp/B07H289S79/ref=sr_1_1_sspa?keywords=wd+ref+4+tb&qid=1575929398&smid=A3JWKAKR8XB7XF&sr=8-1-spons&psc=1&spLa=ZW5jcnlwdGVkUXVhbGlmaWVyPUExMVNXMTQyTjhRQTFGJmVuY3J5cHRlZElkPUEwNTgxMjEwM1BGMktWOVo4TlE1USZlbmNyeXB0ZWRBZElkPUEwNDkxOTQ0MVM0UVZGR0hKWkZUUSZ3aWRnZXROYW1lPXNwX2F0ZiZhY3Rpb249Y2xpY2tSZWRpcmVjdCZkb05vdExvZ0NsaWNrPXRydWU=\""
   ]
  },
  {
   "cell_type": "code",
   "execution_count": 139,
   "metadata": {},
   "outputs": [
    {
     "data": {
      "text/plain": [
       "129.99"
      ]
     },
     "execution_count": 139,
     "metadata": {},
     "output_type": "execute_result"
    }
   ],
   "source": [
    "with urllib.request.urlopen(URL) as f:\n",
    "            html_doc = f.read()\n",
    "        \n",
    "soup = BeautifulSoup(html_doc, 'html.parser')\n",
    "\n",
    "for element in soup.find_all(\"span\"):\n",
    "    if \"a-color-price price\" in str(element):\n",
    "        price_containing_str = str(element)\n",
    "        break\n",
    "\n",
    "price_str = ''.join([i for i in list(price_containing_str) if i.isdigit()])\n",
    "price_str = price_str[:-2] + \".\" + price_str[-2:]\n",
    "price = float(price_str)\n",
    "price"
   ]
  },
  {
   "cell_type": "code",
   "execution_count": null,
   "metadata": {},
   "outputs": [],
   "source": []
  },
  {
   "cell_type": "code",
   "execution_count": null,
   "metadata": {},
   "outputs": [],
   "source": []
  }
 ],
 "metadata": {
  "kernelspec": {
   "display_name": "Python 3",
   "language": "python",
   "name": "python3"
  },
  "language_info": {
   "codemirror_mode": {
    "name": "ipython",
    "version": 3
   },
   "file_extension": ".py",
   "mimetype": "text/x-python",
   "name": "python",
   "nbconvert_exporter": "python",
   "pygments_lexer": "ipython3",
   "version": "3.7.3"
  }
 },
 "nbformat": 4,
 "nbformat_minor": 2
}
